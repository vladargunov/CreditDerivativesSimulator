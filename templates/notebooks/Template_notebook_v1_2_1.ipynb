{
  "nbformat": 4,
  "nbformat_minor": 0,
  "metadata": {
    "colab": {
      "provenance": [],
      "include_colab_link": true
    },
    "kernelspec": {
      "name": "python3",
      "display_name": "Python 3"
    },
    "language_info": {
      "name": "python"
    }
  },
  "cells": [
    {
      "cell_type": "markdown",
      "metadata": {
        "id": "view-in-github",
        "colab_type": "text"
      },
      "source": [
        "<a href=\"https://colab.research.google.com/github/vladargunov/CreditDerivativesSimulator/blob/v1.2.1/templates/notebooks/Template_notebook_v1_2_1.ipynb\" target=\"_parent\"><img src=\"https://colab.research.google.com/assets/colab-badge.svg\" alt=\"Open In Colab\"/></a>"
      ]
    },
    {
      "cell_type": "markdown",
      "source": [
        "$\\Huge Version 1.2.1$"
      ],
      "metadata": {
        "id": "oN9rNLbn3O4L"
      }
    },
    {
      "cell_type": "markdown",
      "source": [
        "# Template for Developing Credit Trading Strategies\n",
        "\n",
        "What's new in version 1.2.1?\n",
        "\n",
        "- Given each time series is presented in different days, which resulted in presence of nan values and incorrect metrics, this version inctroduces a new parameter 'base_asset', which defines an asset whose trading days will be used for every other asset. See example below for detailed explanation."
      ],
      "metadata": {
        "id": "xH4Ql9vP2xP5"
      }
    },
    {
      "cell_type": "markdown",
      "source": [
        "Please set a version of simulator that you require, it is very advisable to use the latest version with tag \"latest\" since it includes all latest features. (Current latest version: 1.2.1)"
      ],
      "metadata": {
        "id": "e0Pjz17nDjHY"
      }
    },
    {
      "cell_type": "code",
      "source": [
        "VERSION =  \"v1.2.1\" #@param {type:\"string\"}"
      ],
      "metadata": {
        "id": "PJEI6IUUAwAn",
        "cellView": "form"
      },
      "execution_count": 4,
      "outputs": []
    },
    {
      "cell_type": "code",
      "execution_count": null,
      "metadata": {
        "id": "YkzDBvij2kZS",
        "cellView": "form"
      },
      "outputs": [],
      "source": [
        "#@title [RUN] Install required python libraries and clone the repo\n",
        "\n",
        "# # Assert for correct version\n",
        "assert VERSION in ['v1.0', 'v1.1', 'v1.2', 'v1.2.1', 'latest'], 'Specify correct version!' + \\\n",
        "                            'Available versions are \"v1.0\", \"v1.1\" , \"v1.2\" and \"latest\".'\n",
        "\n",
        "!pip install wandb -q\n",
        "if VERSION == \"latest\":\n",
        "    !git clone https://github.com/vladargunov/CreditDerivativesSimulator.git\n",
        "else:\n",
        "    !git clone -b $VERSION https://github.com/vladargunov/CreditDerivativesSimulator.git\n",
        "\n",
        "# Import necessary classses\n",
        "%cd CreditDerivativesSimulator\n",
        "from src.base_strategy import BaseStrategy\n",
        "from src.simulator import Simulator"
      ]
    },
    {
      "cell_type": "markdown",
      "source": [
        "# Explanation of the 'base_asset' parameter\n",
        "\n",
        "Now for each simulator we need to add a parameter 'base_asset' with a value of one of the available assets. It in turn will define trading days for the simulator, i.e. it will be ensured that such asset will not have nan values during its simulation."
      ],
      "metadata": {
        "id": "QNgcc-6ou7RQ"
      }
    },
    {
      "cell_type": "code",
      "source": [
        "# Set a dummy simulator \n",
        "dummy_sim = Simulator(use_wandb=False, \n",
        "                debug_mode=False, \n",
        "                base_asset='spx', # NEW PARAMETER\n",
        "                train_test_split_time='2019-01-02', # submit date in format 'yyyy-mm-dd'\n",
        "                transaction_costs=0.003, # Fraction of changes in portfolio that goes into transaction costs\n",
        "                run_name='MyFirstStrategy1',\n",
        "                project_name='Test') # or 'Final'"
      ],
      "metadata": {
        "id": "O3QWmaORu_sT"
      },
      "execution_count": null,
      "outputs": []
    },
    {
      "cell_type": "markdown",
      "source": [
        "Now observe that in train and test data for asset 'spx' there are no nan values - that is the purpose of such parameter"
      ],
      "metadata": {
        "id": "27de5cFNwTK5"
      }
    },
    {
      "cell_type": "code",
      "source": [
        "dummy_sim.test_data.head()"
      ],
      "metadata": {
        "id": "au3mnpCpw37k"
      },
      "execution_count": null,
      "outputs": []
    },
    {
      "cell_type": "code",
      "source": [
        "print('Presence of nan values in column spx in test data: ', dummy_sim.test_data['spx'].isnull().any())"
      ],
      "metadata": {
        "id": "4ziHNOgUw8-h"
      },
      "execution_count": null,
      "outputs": []
    },
    {
      "cell_type": "code",
      "source": [
        "print('Presence of nan values in column spx in train data: ', dummy_sim.train_data['spx'].isnull().any())"
      ],
      "metadata": {
        "id": "AObWCgZIxM1r"
      },
      "execution_count": null,
      "outputs": []
    },
    {
      "cell_type": "markdown",
      "source": [
        "Everything else remains the same in the simulation of the strategies."
      ],
      "metadata": {
        "id": "sM8Pb1qRzrQL"
      }
    },
    {
      "cell_type": "markdown",
      "source": [
        "# Possible issues\n",
        "\n",
        "Given 'base_asset' will possibly be different for any strategy, it will also change the days when every strategy will trade, which will possibly create dissimilarity in comparison of trading strategies.\n",
        "\n",
        "Note that in order to retrieve trading days for each strategy now refer to the file in the directory \"/content/CreditDerivativesSimulator/supplementary_data/test_data_steps_dates.csv\""
      ],
      "metadata": {
        "id": "IOmxmJh1z_Na"
      }
    },
    {
      "cell_type": "markdown",
      "source": [
        "# Possible improvements"
      ],
      "metadata": {
        "id": "bt2J0mPy1tdu"
      }
    },
    {
      "cell_type": "markdown",
      "source": [
        "As an improvement to the latest additions and in order to suit pair trading strategies better, it is possible to introduce a list of base assets which will ensure that for all assets in such list there will be no nan values.\n",
        "\n",
        "Please contact me if you needf such feature."
      ],
      "metadata": {
        "id": "L3m6o0711xr1"
      }
    },
    {
      "cell_type": "markdown",
      "source": [
        "# Migration from previous version\n",
        "\n",
        "As in previous versions, all you need to do is to copy your strategy in the next cell."
      ],
      "metadata": {
        "id": "ZtNp5jkiDVr8"
      }
    },
    {
      "cell_type": "code",
      "source": [
        "class MyFirstStrategy(BaseStrategy):\n",
        "  def train_model(self, train_data):\n",
        "    pass\n",
        "\n",
        "  def trade(self, daily_data) -> dict:\n",
        "    return {'spx' : .1}"
      ],
      "metadata": {
        "id": "agOjDrM7DbgW"
      },
      "execution_count": null,
      "outputs": []
    },
    {
      "cell_type": "markdown",
      "source": [
        "# Testing your strategy"
      ],
      "metadata": {
        "id": "j5GXsuDtGDLv"
      }
    },
    {
      "cell_type": "code",
      "source": [
        "# Create an instance of your strategy and of simulator\n",
        "my_strategy = MyFirstStrategy()\n",
        "\n",
        "\n",
        "# If you use wandb, you will need to past an API key from your wandb account\n",
        "sim = Simulator(use_wandb=False, \n",
        "                debug_mode=False, \n",
        "                base_asset='spx', # submit a name of any traded asset\n",
        "                train_test_split_time='2019-01-02', # submit date in format 'yyyy-mm-dd'\n",
        "                transaction_costs=0.003, # Fraction of changes in portfolio that goes into transaction costs\n",
        "                run_name='MyFirstStrategy1',\n",
        "                project_name='Test') # or 'Final'"
      ],
      "metadata": {
        "id": "WrC96jvOGFey"
      },
      "execution_count": null,
      "outputs": []
    },
    {
      "cell_type": "code",
      "source": [
        "# Available tickers in new version\n",
        "sim.get_available_assets()"
      ],
      "metadata": {
        "id": "rwYKw3a0zERk"
      },
      "execution_count": null,
      "outputs": []
    },
    {
      "cell_type": "code",
      "source": [
        "# Simulate your strategy\n",
        "sim.simulate(strategy=my_strategy)"
      ],
      "metadata": {
        "id": "qZ5w4VaWzjET"
      },
      "execution_count": null,
      "outputs": []
    }
  ]
}